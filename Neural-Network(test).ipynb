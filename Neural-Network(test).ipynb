{
 "cells": [
  {
   "cell_type": "code",
   "execution_count": 1,
   "metadata": {
    "collapsed": true
   },
   "outputs": [],
   "source": [
    "import numpy as np\n",
    "import tensorflow as tf\n",
    "import pandas as pd\n",
    "import csv"
   ]
  },
  {
   "cell_type": "markdown",
   "metadata": {},
   "source": [
    "データの加工。やり直すときはpandas(ry"
   ]
  },
  {
   "cell_type": "code",
   "execution_count": 2,
   "metadata": {
    "collapsed": true
   },
   "outputs": [],
   "source": [
    "def orijinal_adjustment(raw_input,x):\n",
    "    long_input=raw_input.shape[0]\n",
    "    if x==1:\n",
    "        for i in range(long_input):\n",
    "            raw_input[i][80]=float(raw_input[i][80])\n",
    "    for i in range(long_input):\n",
    "        if raw_input[i][79]==\"normal\":\n",
    "            raw_input[i][79]=1.0\n",
    "        elif raw_input[i][79]==\"partial\":\n",
    "            raw_input[i][79]=2.0\n",
    "        else:\n",
    "            raw_input[i][79]=0.0\n",
    "    for i in range(long_input):\n",
    "        if raw_input[i][78]==\"New\":\n",
    "            raw_input[i][78]=1.0\n",
    "        else :\n",
    "            raw_input[i][78]=0.0\n",
    "    for i in range(long_input):\n",
    "        raw_input[i][77]=2011-float(raw_input[i][77])\n",
    "    raw_input=np.delete(raw_input,76,1)\n",
    "    for i in range(long_input):\n",
    "        raw_input[i][75]=float(raw_input[i][75])\n",
    "    raw_input=np.delete(raw_input,74,1)\n",
    "    raw_input=np.delete(raw_input,73,1)\n",
    "    raw_input=np.delete(raw_input,72,1) #poolQC\n",
    "    for i in range(long_input):\n",
    "        raw_input[i][71]=float(raw_input[i][71])\n",
    "        raw_input[i][70]=float(raw_input[i][70])\n",
    "        raw_input[i][69]=float(raw_input[i][69])\n",
    "        raw_input[i][68]=float(raw_input[i][68])\n",
    "        raw_input[i][67]=float(raw_input[i][67])\n",
    "        raw_input[i][66]=float(raw_input[i][66])\n",
    "    raw_input=np.delete(raw_input,65,1)#paved drive\n",
    "    for i in range(long_input):\n",
    "        if raw_input[i][64]==\"TA\":\n",
    "            raw_input[i][64]=0.0\n",
    "        elif raw_input[i][64]==\"Gd\":\n",
    "            raw_input[i][64]=1.0\n",
    "        else:\n",
    "            raw_input[i][64]=-1.0\n",
    "        if raw_input[i][63]==\"TA\":\n",
    "            raw_input[i][63]=0.0\n",
    "        elif raw_input[i][63]==\"Gd\":\n",
    "            raw_input[i][63]=1.0\n",
    "        else:\n",
    "            raw_input[i][63]=-1.0\n",
    "    for i in range(long_input):\n",
    "        if raw_input[i][62]==\"NA\":\n",
    "            raw_input[i][62]=0.0\n",
    "        else:\n",
    "            raw_input[i][62]=float(raw_input[i][62])\n",
    "        if raw_input[i][61]==\"NA\":\n",
    "            raw_input[i][61]=0\n",
    "        else:\n",
    "            raw_input[i][61]=float(raw_input[i][61])\n",
    "    raw_input=np.delete(raw_input,60,1)#garagefinish\n",
    "    for i in range(long_input):\n",
    "        if raw_input[i][59]==\"NA\":\n",
    "            raw_input[i][59]=0.0\n",
    "        else:\n",
    "            raw_input[i][59]=2010-float(raw_input[i][59])\n",
    "    raw_input=np.delete(raw_input,58,1)\n",
    "    raw_input=np.delete(raw_input,57,1)#fireplaceQu\n",
    "    for i in range(long_input):\n",
    "        raw_input[i][56]=float(raw_input[i][56])\n",
    "    raw_input=np.delete(raw_input,55,1)\n",
    "    for i in range(long_input):\n",
    "        raw_input[i][54]=float(raw_input[i][54])\n",
    "    raw_input=np.delete(raw_input,53,1)\n",
    "    for i in range(long_input):\n",
    "        raw_input[i][52]=float(raw_input[i][52])#kitchnAbvGr\n",
    "        raw_input[i][51]=float(raw_input[i][51])\n",
    "        raw_input[i][50]=float(raw_input[i][50])\n",
    "        raw_input[i][49]=float(raw_input[i][49])\n",
    "        if raw_input[i][48]==\"NA\":\n",
    "            raw_input[i][48]=0.0\n",
    "        else:\n",
    "            raw_input[i][48]=float(raw_input[i][48])\n",
    "        if raw_input[i][47]==\"NA\":\n",
    "            raw_input[i][47]=0.0\n",
    "        else:\n",
    "            raw_input[i][47]=float(raw_input[i][47])\n",
    "        raw_input[i][46]=float(raw_input[i][46])\n",
    "        raw_input[i][45]=float(raw_input[i][45])\n",
    "        raw_input[i][44]=float(raw_input[i][44])\n",
    "        raw_input[i][43]=float(raw_input[i][43])#1stFlrSF\n",
    "    raw_input=np.delete(raw_input,42,1)\n",
    "    raw_input=np.delete(raw_input,41,1)\n",
    "    raw_input=np.delete(raw_input,40,1)\n",
    "    raw_input=np.delete(raw_input,39,1)\n",
    "    for i in range(long_input):\n",
    "        if raw_input[i][38]==\"NA\":\n",
    "            raw_input[i][38]=0.0\n",
    "        else:\n",
    "            raw_input[i][38]=float(raw_input[i][38])\n",
    "        if raw_input[i][37]==\"NA\":\n",
    "            raw_input[i][37]=0.0\n",
    "        else:\n",
    "            raw_input[i][37]=float(raw_input[i][37])\n",
    "        if raw_input[i][36]==\"NA\":\n",
    "            raw_input[i][36]=0.0\n",
    "        else:\n",
    "            raw_input[i][36]=float(raw_input[i][36])\n",
    "    raw_input=np.delete(raw_input,35,1)#BsmtFinType2\n",
    "    for i in range(long_input):\n",
    "        if raw_input[i][34]==\"NA\":\n",
    "            raw_input[i][34]=0.0\n",
    "        else:\n",
    "            raw_input[i][34]=float(raw_input[i][34])\n",
    "    raw_input=np.delete(raw_input,33,1)\n",
    "    raw_input=np.delete(raw_input,32,1)\n",
    "    raw_input=np.delete(raw_input,31,1)\n",
    "    raw_input=np.delete(raw_input,30,1)\n",
    "    raw_input=np.delete(raw_input,29,1)\n",
    "    raw_input=np.delete(raw_input,28,1)\n",
    "    raw_input=np.delete(raw_input,27,1)\n",
    "    for i in range(long_input):\n",
    "        if raw_input[i][26]==\"NA\":\n",
    "            raw_input[i][26]=0.0\n",
    "        else:\n",
    "            raw_input[i][26]=float(raw_input[i][26])\n",
    "    raw_input=np.delete(raw_input,25,1)\n",
    "    raw_input=np.delete(raw_input,24,1)\n",
    "    raw_input=np.delete(raw_input,23,1)\n",
    "    raw_input=np.delete(raw_input,22,1)\n",
    "    raw_input=np.delete(raw_input,21,1)#RoofStyle\n",
    "    for i in range(long_input):\n",
    "        raw_input[i][20]=2010-float(raw_input[i][20])\n",
    "        raw_input[i][19]=2010-float(raw_input[i][19])\n",
    "        raw_input[i][18]=float(raw_input[i][18])\n",
    "        raw_input[i][17]=float(raw_input[i][17])\n",
    "    raw_input=np.delete(raw_input,16,1)\n",
    "    raw_input=np.delete(raw_input,15,1)\n",
    "    raw_input=np.delete(raw_input,14,1)\n",
    "    raw_input=np.delete(raw_input,13,1)\n",
    "    raw_input=np.delete(raw_input,12,1)\n",
    "    raw_input=np.delete(raw_input,11,1)\n",
    "    raw_input=np.delete(raw_input,10,1)\n",
    "    raw_input=np.delete(raw_input,9,1)\n",
    "    raw_input=np.delete(raw_input,8,1)\n",
    "    raw_input=np.delete(raw_input,7,1)\n",
    "    raw_input=np.delete(raw_input,6,1)\n",
    "    raw_input=np.delete(raw_input,5,1)\n",
    "    for i in range(long_input):\n",
    "        raw_input[i][4]=float(raw_input[i][4])\n",
    "        if raw_input[i][3]==\"NA\":\n",
    "            raw_input[i][3]=0.0\n",
    "        else:\n",
    "            raw_input[i][3]=float(raw_input[i][3])\n",
    "    raw_input=np.delete(raw_input,2,1)\n",
    "    for i in range(long_input):\n",
    "        raw_input[i][1]=float(raw_input[i][1])\n",
    "    raw_input=np.delete(raw_input,0,1)\n",
    "    return raw_input"
   ]
  },
  {
   "cell_type": "markdown",
   "metadata": {},
   "source": [
    "ニューラルネットの計算。今回は未知データへの予測なので正規化しない。"
   ]
  },
  {
   "cell_type": "code",
   "execution_count": 3,
   "metadata": {
    "collapsed": true
   },
   "outputs": [],
   "source": [
    "def inference(condition_placeholder):\n",
    "  with tf.name_scope(\"hidden1\") as scope:\n",
    "    hidden1_weight = tf.Variable(tf.truncated_normal([CONDITION_SIZE, HIDDEN_UNIT_SIZE], stddev=0.1), name=\"hidden1_weight\")\n",
    "    hidden1_bias = tf.Variable(tf.constant(0.1, shape=[HIDDEN_UNIT_SIZE]), name=\"hidden1_bias\")\n",
    "    hidden1_output = tf.nn.relu(tf.matmul(condition_placeholder, hidden1_weight) + hidden1_bias)\n",
    "  with tf.name_scope(\"output\") as scope:\n",
    "    output_weight = tf.Variable(tf.truncated_normal([HIDDEN_UNIT_SIZE, 1], stddev=0.1), name=\"output_weight\")\n",
    "    output_bias = tf.Variable(tf.constant(0.1, shape=[1]), name=\"output_bias\")\n",
    "    output = tf.matmul(hidden1_output, output_weight) + output_bias\n",
    "  return output"
   ]
  },
  {
   "cell_type": "markdown",
   "metadata": {},
   "source": [
    "パラメータの設定。隠れ層のサイズを学習時と同じにしないとエラーが出る。"
   ]
  },
  {
   "cell_type": "code",
   "execution_count": 4,
   "metadata": {
    "collapsed": true
   },
   "outputs": [],
   "source": [
    "HIDDEN_UNIT_SIZE =10\n",
    "input=np.loadtxt(open(r\"test.csv\"), delimiter=\",\",skiprows=1,dtype=str)\n",
    "input = orijinal_adjustment(input,0)\n",
    "CONDITION_SIZE = input.shape[1]"
   ]
  },
  {
   "cell_type": "markdown",
   "metadata": {},
   "source": [
    "計算の実行"
   ]
  },
  {
   "cell_type": "code",
   "execution_count": 5,
   "metadata": {},
   "outputs": [
    {
     "name": "stdout",
     "output_type": "stream",
     "text": [
      "INFO:tensorflow:Restoring parameters from model.ckpt\n"
     ]
    }
   ],
   "source": [
    "with tf.Graph().as_default():\n",
    "    condition_placeholder = tf.placeholder(\"float\", [None, CONDITION_SIZE], name=\"condition_placeholder\")\n",
    "    feed_dict_out={\n",
    "       condition_placeholder:input\n",
    "    }\n",
    "    output = inference(condition_placeholder)\n",
    "    summary_op = tf.summary.merge_all()\n",
    "    init = tf.global_variables_initializer()\n",
    "    saver = tf.train.Saver()\n",
    "    with tf.Session() as sess:\n",
    "        summary_writer = tf.summary.FileWriter('data',graph=sess.graph )\n",
    "        sess.run(init)\n",
    "        saver.restore(sess, r\"model.ckpt\")\n",
    "        list=sess.run(output,feed_dict_out)\n",
    "        np.savetxt(r\"out.csv\",list)"
   ]
  },
  {
   "cell_type": "markdown",
   "metadata": {},
   "source": [
    "書き込んだout.csvはアップロードされています。"
   ]
  }
 ],
 "metadata": {
  "kernelspec": {
   "display_name": "Python 3",
   "language": "python",
   "name": "python3"
  },
  "language_info": {
   "codemirror_mode": {
    "name": "ipython",
    "version": 3
   },
   "file_extension": ".py",
   "mimetype": "text/x-python",
   "name": "python",
   "nbconvert_exporter": "python",
   "pygments_lexer": "ipython3",
   "version": "3.6.3"
  }
 },
 "nbformat": 4,
 "nbformat_minor": 2
}
