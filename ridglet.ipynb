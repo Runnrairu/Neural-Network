{
 "cells": [
  {
   "cell_type": "code",
   "execution_count": 1,
   "metadata": {
    "collapsed": true
   },
   "outputs": [],
   "source": [
    "%matplotlib inline\n",
    "import numpy as np\n",
    "import tensorflow as tf\n",
    "import matplotlib.pyplot as plt"
   ]
  },
  {
   "cell_type": "markdown",
   "metadata": {},
   "source": [
    "### 普通の学習での出力計算"
   ]
  },
  {
   "cell_type": "code",
   "execution_count": 2,
   "metadata": {
    "collapsed": true
   },
   "outputs": [],
   "source": [
    "def inference(condition_placeholder,keep_prob):#普通の学習におけるニューラルネットの計算\n",
    "  with tf.name_scope(\"hidden1\") as scope:#入力層→中間層の計算を行う\n",
    "    hidden1_output = tf.nn.relu(tf.matmul(condition_placeholder, hidden1_weight) + hidden1_bias)\n",
    "    hidden1_output = tf.nn.dropout(hidden1_output,keep_prob)\n",
    "  with tf.name_scope(\"output\") as scope:#中間層→出力層の計算を行う\n",
    "    output = tf.matmul(hidden1_output, output_weight) + output_bias\n",
    "    output = tf.nn.dropout(output,keep_prob)\n",
    "  return tf.nn.l2_normalize(output, 0)#正規化"
   ]
  },
  {
   "cell_type": "markdown",
   "metadata": {},
   "source": [
    "### 積分表現理論を利用した学習での出力計算"
   ]
  },
  {
   "cell_type": "code",
   "execution_count": 3,
   "metadata": {
    "collapsed": true
   },
   "outputs": [],
   "source": [
    "\n",
    "def inference_oracle(condition_placeholder,keep_prob):#リッジレットにおけるニューラルネットの計算\n",
    "\n",
    "  with tf.name_scope(\"hidden1_oracle\") as scope:#入力層→中間層の計算を行う\n",
    "\n",
    "    hidden1_output = tf.nn.relu(tf.matmul(condition_placeholder, hidden1_oracle_weight) + hidden1_oracle_bias)\n",
    "\n",
    "    hidden1_output = tf.nn.dropout(hidden1_output,keep_prob)\n",
    "\n",
    "  with tf.name_scope(\"output_oracle\") as scope:#中間層→出力層の計算を行う\n",
    "\n",
    "    output = tf.matmul(hidden1_output, tf.transpose(output_oracle_weight)) + output_oracle_bias\n",
    "\n",
    "    output = tf.nn.dropout(output,keep_prob)\n",
    "\n",
    "  return tf.nn.l2_normalize(output, 0)#正規化"
   ]
  },
  {
   "cell_type": "markdown",
   "metadata": {},
   "source": [
    "### 通常の学習における損失計算と、積分利用での損失計算"
   ]
  },
  {
   "cell_type": "code",
   "execution_count": 4,
   "metadata": {
    "collapsed": true
   },
   "outputs": [],
   "source": [
    "def loss(output, label_placeholder):\n",
    "\n",
    "  with tf.name_scope(\"loss\") as scope:#正規化したうえで損失関数を計算する\n",
    "\n",
    "    loss = tf.nn.l2_loss(output - tf.nn.l2_normalize(label_placeholder, 0))\n",
    "\n",
    "    tf.summary.scalar(\"loss\", loss)\n",
    "\n",
    "  return loss\n",
    "\n",
    "\n",
    "\n",
    "def loss_oracle(output_oracle, label_placeholder):\n",
    "\n",
    "  with tf.name_scope(\"loss_oracle\") as scope:#正規化したうえで損失関数を計算する\n",
    "\n",
    "    loss = tf.nn.l2_loss(output_oracle - tf.nn.l2_normalize(label_placeholder, 0))\n",
    "\n",
    "    tf.summary.scalar(\"loss_oracle\", loss)\n",
    "\n",
    "  return loss"
   ]
  },
  {
   "cell_type": "markdown",
   "metadata": {},
   "source": [
    "### 通常の学習とリッジレット解析を用いた学習"
   ]
  },
  {
   "cell_type": "code",
   "execution_count": 5,
   "metadata": {
    "collapsed": true
   },
   "outputs": [],
   "source": [
    "def training(loss):#本番の学習\n",
    "\n",
    "  with tf.name_scope(\"training\") as scope:\n",
    "\n",
    "    train_step = tf.train.GradientDescentOptimizer(0.01).minimize(loss,var_list=[hidden1_weight,hidden1_bias,output_weight,output_bias])\n",
    "\n",
    "  return train_step\n",
    "\n",
    "\n",
    "\n",
    "def training_oracle(loss_oracle):#リッジレット解析における本番の学習\n",
    "\n",
    "  with tf.name_scope(\"training_oracle\") as scope:\n",
    "\n",
    "    train_step = tf.train.GradientDescentOptimizer(0.01).minimize(loss_oracle,var_list=[hidden1_oracle_weight,hidden1_oracle_bias,output_oracle_weight,output_oracle_bias])\n",
    "\n",
    "  return train_step"
   ]
  },
  {
   "cell_type": "markdown",
   "metadata": {},
   "source": [
    "### 独自の工夫（オラクルサンプリング）に必要な混合比サンプリング"
   ]
  },
  {
   "cell_type": "code",
   "execution_count": 6,
   "metadata": {
    "collapsed": true
   },
   "outputs": [],
   "source": [
    "def w_sample():#独特な工夫その２．混合比サンプリング\n",
    "\n",
    "    w = np.random.rand()\n",
    "\n",
    "    sum_y_j = 0\n",
    "\n",
    "    for j in range(data_size):\n",
    "\n",
    "        sum_y_j += np.absolute(label_train[j][0])\n",
    "\n",
    "        if w < sum_y_j/y_sum:\n",
    "\n",
    "            break\n",
    "\n",
    "    return j"
   ]
  },
  {
   "cell_type": "markdown",
   "metadata": {},
   "source": [
    "### オラクルサンプリングの本体"
   ]
  },
  {
   "cell_type": "code",
   "execution_count": 7,
   "metadata": {
    "collapsed": true
   },
   "outputs": [],
   "source": [
    "def oracle_sampling():#独特な工夫その１。オラクルサンプリング。\n",
    "\n",
    "    a_b_list=[[None for i in range(CONDITION_SIZE+1)] for j in range(HIDDEN_UNIT_SIZE)]\n",
    "\n",
    "    \n",
    "\n",
    "    for j in range(HIDDEN_UNIT_SIZE):\n",
    "\n",
    "        s=w_sample()\n",
    "\n",
    "        t=w_sample()\n",
    "\n",
    "        if s==t:#もし番号がかぶったら選びなおし\n",
    "\n",
    "            t=w_sample()\n",
    "\n",
    "            if s==t:\n",
    "\n",
    "                t=w_sample()\n",
    "\n",
    "        xi=np.random.beta(100,3)\n",
    "\n",
    "        gamma=np.random.binomial(1,0.5)\n",
    "\n",
    "        z=xi*np.power(-1,gamma)\n",
    "\n",
    "        a_inv=norm(condition_train[s]-condition_train[t])\n",
    "\n",
    "        norm_s=norm(condition_train[s])\n",
    "\n",
    "        nor_sum=0 #内積の保存\n",
    "\n",
    "        for i in range(CONDITION_SIZE):\n",
    "\n",
    "            a_b_list[j][i] = condition_train[s][i]/(a_inv*norm_s)\n",
    "\n",
    "            nor_sum +=  a_b_list[j][i]*condition_train[s][i]\n",
    "\n",
    "            a_b_list[j][CONDITION_SIZE] = nor_sum-z\n",
    "\n",
    "    return a_b_list"
   ]
  },
  {
   "cell_type": "markdown",
   "metadata": {},
   "source": [
    "### ノルムを計算する関数と、リッジレット関数を計算する関数\n",
    "（なぜリッジレット関数がこうなるのかは[1]と、train.csvを参照。ヒルベルト変換は次元（機械学習で言うと入力層の次元）が偶数なら非常に楽）"
   ]
  },
  {
   "cell_type": "code",
   "execution_count": 8,
   "metadata": {
    "collapsed": true
   },
   "outputs": [],
   "source": [
    "def norm(normar):#L2ノルムを計算する\n",
    "\n",
    "    norm_sum = 0\n",
    "\n",
    "    for i in range(normar.shape[0]):\n",
    "\n",
    "        norm_sum += np.power(normar[i],2)\n",
    "\n",
    "    return np.power(norm_sum,0.5)\n",
    "\n",
    "\n",
    "\n",
    "def ridgelet_func(x):#リッジレット関数の計算\n",
    "\n",
    "    return (x*x-1)*np.exp(-x*x/2)"
   ]
  },
  {
   "cell_type": "markdown",
   "metadata": {},
   "source": [
    "### リッジレット変換の近似"
   ]
  },
  {
   "cell_type": "code",
   "execution_count": 9,
   "metadata": {
    "collapsed": true
   },
   "outputs": [],
   "source": [
    "def ridgelet(a,b,label_train,i):#リッジレット変換の近似\n",
    "\n",
    "    ri_sum = 0\n",
    "\n",
    "    for j in range(TRAIN_DATA_SIZE):\n",
    "\n",
    "        ri_sum += ridgelet_func(np.dot(a,condition_train[j])-b)\n",
    "\n",
    "    return ri_sum[0]/TRAIN_DATA_SIZE"
   ]
  },
  {
   "cell_type": "markdown",
   "metadata": {},
   "source": [
    "### 初期設定"
   ]
  },
  {
   "cell_type": "code",
   "execution_count": 10,
   "metadata": {
    "collapsed": true
   },
   "outputs": [],
   "source": [
    "#ノード数の設定と訓練データの個数設定\n",
    "\n",
    "HIDDEN_UNIT_SIZE =10000\n",
    "\n",
    "TRAIN_DATA_SIZE = 1000"
   ]
  },
  {
   "cell_type": "markdown",
   "metadata": {},
   "source": [
    "### データの読み込みと分割"
   ]
  },
  {
   "cell_type": "code",
   "execution_count": 11,
   "metadata": {
    "collapsed": true
   },
   "outputs": [],
   "source": [
    "raw_input = np.loadtxt(open(r\"train.csv\"), delimiter=\",\",skiprows=1,dtype = 'float')\n",
    "\n",
    "CONDITION_SIZE = raw_input.shape[1]-1\n",
    "\n",
    "[condition,label]  = np.hsplit(raw_input, [CONDITION_SIZE])\n",
    "\n",
    "[condition_train,condition_test]=np.vsplit(condition,[TRAIN_DATA_SIZE])\n",
    "\n",
    "[label_train,label_test]=np.vsplit(label,[TRAIN_DATA_SIZE])"
   ]
  },
  {
   "cell_type": "markdown",
   "metadata": {},
   "source": [
    "### 損失を記録しておく配列"
   ]
  },
  {
   "cell_type": "code",
   "execution_count": 12,
   "metadata": {
    "collapsed": true
   },
   "outputs": [],
   "source": [
    "losstrain = []\n",
    "\n",
    "losstest = []\n",
    "\n",
    "losstrain_oracle = []\n",
    "\n",
    "losstest_oracle = []"
   ]
  },
  {
   "cell_type": "markdown",
   "metadata": {},
   "source": [
    "### オラクルサンプリングとリッジレット変換"
   ]
  },
  {
   "cell_type": "code",
   "execution_count": 13,
   "metadata": {
    "collapsed": true
   },
   "outputs": [],
   "source": [
    "data_size = label_train.shape[0]\n",
    "\n",
    "y_sum=0\n",
    "\n",
    "c=[]\n",
    "\n",
    "for i in range(data_size):\n",
    "\n",
    "    y_sum += np.absolute(float(label_train[i][0]))\n",
    "\n",
    "\n",
    "\n",
    "para = oracle_sampling() #オラクルサンプリングを行う\n",
    "\n",
    "[a,b] = np.hsplit(np.array(para), [CONDITION_SIZE])#重みとバイアスに分ける\n",
    "\n",
    "\n",
    "\n",
    "for i in range(HIDDEN_UNIT_SIZE):\n",
    "\n",
    "    c.append(ridgelet(a[i],b[i],label_train,i))#リッジレット変換の近似を計算する（定数倍は無視）\n",
    "\n"
   ]
  },
  {
   "cell_type": "markdown",
   "metadata": {},
   "source": [
    "### 学習の本体"
   ]
  },
  {
   "cell_type": "code",
   "execution_count": 14,
   "metadata": {},
   "outputs": [
    {
     "name": "stdout",
     "output_type": "stream",
     "text": [
      "0.451956\n",
      "0.387618\n",
      "0.360831\n",
      "0.323083\n",
      "0.363732\n",
      "0.35304\n",
      "0.338354\n",
      "0.330836\n",
      "0.323119\n",
      "0.3381\n",
      "0.0483926\n",
      "ここからリッジレット解析を利用した場合\n",
      "1.46493\n",
      "0.320151\n",
      "0.318675\n",
      "0.322345\n",
      "0.328422\n",
      "0.317803\n",
      "0.314365\n",
      "0.299446\n",
      "0.318618\n",
      "0.325496\n",
      "0.0303291\n"
     ]
    }
   ],
   "source": [
    "with tf.Graph().as_default():\n",
    "\n",
    "  condition_placeholder = tf.placeholder(\"float\", [None, CONDITION_SIZE], name=\"condition_placeholder\")\n",
    "\n",
    "  label_placeholder = tf.placeholder(\"float\", [None, 1], name=\"label_placeholder\")\n",
    "\n",
    "  loss_label_placeholder = tf.placeholder(\"string\", name=\"loss_label_placeholder\")\n",
    "\n",
    "  keep_prob = tf.placeholder(\"float\")\n",
    "\n",
    "  feed_dict_train={\n",
    "\n",
    "    label_placeholder: label_train,\n",
    "\n",
    "    condition_placeholder: condition_train,\n",
    "\n",
    "    loss_label_placeholder: \"loss__normal_train\",\n",
    "\n",
    "    keep_prob : 0.5#ドロップアウト率の設定\n",
    "\n",
    "  }\n",
    "\n",
    "  feed_dict_test={\n",
    "\n",
    "    label_placeholder: label_test,\n",
    "\n",
    "    condition_placeholder: condition_test,\n",
    "\n",
    "    loss_label_placeholder: \"loss_normal_test\",\n",
    "\n",
    "    keep_prob : 1.0#ドロップアウト率の設定\n",
    "\n",
    "  }\n",
    "\n",
    "  feed_dict_oracle_train={#リッジレット解析を用いるほう\n",
    "\n",
    "    label_placeholder: label_train,\n",
    "\n",
    "    condition_placeholder: condition_train,\n",
    "\n",
    "    loss_label_placeholder: \"loss__oracle_train\",\n",
    "\n",
    "    keep_prob : 0.5#ドロップアウト率の設定\n",
    "\n",
    "  }\n",
    "\n",
    "  feed_dict_oracle_test={\n",
    "\n",
    "    label_placeholder:label_test,\n",
    "\n",
    "    condition_placeholder: condition_test,\n",
    "\n",
    "    loss_label_placeholder: \"loss_oracle_test\",\n",
    "\n",
    "    keep_prob : 1.0#ドロップアウト率の設定\n",
    "\n",
    "  }\n",
    "\n",
    "  \n",
    "\n",
    "  #普通の学習に用いる変数\n",
    "\n",
    "  hidden1_weight = tf.Variable(tf.truncated_normal([CONDITION_SIZE, HIDDEN_UNIT_SIZE], stddev=0.1), name=\"hidden1_weight\")\n",
    "\n",
    "  hidden1_bias = tf.Variable(tf.constant(0.1, shape=[HIDDEN_UNIT_SIZE]), name=\"hidden1_bias\")\n",
    "\n",
    "  output_weight = tf.Variable(tf.truncated_normal([HIDDEN_UNIT_SIZE, 1], stddev=0.1), name=\"output_weight\")\n",
    "\n",
    "  output_bias = tf.Variable(tf.constant(0.1, shape=[1]), name=\"output_bias\") \n",
    "\n",
    "  #リッジレット解析を用いた学習に用いる変数\n",
    "\n",
    "  hidden1_oracle_weight = tf.Variable(a.T, name=\"hidden1_oracle_weight\",dtype=tf.float32)#\n",
    "\n",
    "  hidden1_oracle_bias = tf.Variable(b.T, name=\"hidden1_oracle_bias\",dtype=tf.float32)\n",
    "\n",
    "  output_oracle_weight = tf.Variable([c], name=\"output_oracle_weight\",dtype=tf.float32)\n",
    "\n",
    "  output_oracle_bias = tf.Variable(tf.constant(0.0, shape=[1]), name=\"output_oracle_bias\",dtype=tf.float32)\n",
    "\n",
    "  #設定\n",
    "\n",
    "  output = inference(condition_placeholder,keep_prob)\n",
    "\n",
    "  output_oracle = inference_oracle(condition_placeholder,keep_prob)\n",
    "\n",
    "  loss = loss(output, label_placeholder)\n",
    "\n",
    "  loss_oracle = loss_oracle(output_oracle, label_placeholder)\n",
    "\n",
    "  training_op = training(loss)\n",
    "\n",
    "  training_rid = training_oracle(loss_oracle)\n",
    "\n",
    "  summary_op = tf.summary.merge_all()\n",
    "\n",
    "  init = tf.global_variables_initializer()\n",
    "\n",
    "  with tf.Session() as sess:\n",
    "\n",
    "      summary_writer = tf.summary.FileWriter('data',graph=sess.graph )\n",
    "\n",
    "      sess.run(init)\n",
    "\n",
    "      #普通の学習\n",
    "\n",
    "      for step in range(1000):\n",
    "\n",
    "          sess.run(training_op, feed_dict=feed_dict_train)\n",
    "\n",
    "          loss_test = sess.run(loss, feed_dict=feed_dict_test)\n",
    "\n",
    "          loss_train = sess.run(loss, feed_dict=feed_dict_train)\n",
    "\n",
    "          losstrain.append(loss_train)\n",
    "\n",
    "          losstest.append(loss_test)\n",
    "\n",
    "          if step % 100==0:\n",
    "\n",
    "              summary_str = sess.run(summary_op, feed_dict_test)\n",
    "\n",
    "              summary_str += sess.run(summary_op, feed_dict=feed_dict_train)\n",
    "\n",
    "              summary_writer.add_summary(summary_str, step)\n",
    "\n",
    "              print(loss_train)       \n",
    "\n",
    "      print(sess.run(loss, feed_dict=feed_dict_test))\n",
    "\n",
    "      print(\"ここからリッジレット解析を利用した場合\")\n",
    "\n",
    "      #リッジレット解析を用いた場合\n",
    "\n",
    "      for step in range(1000):\n",
    "\n",
    "          sess.run(training_rid, feed_dict=feed_dict_oracle_train)\n",
    "\n",
    "          loss_test = sess.run(loss_oracle, feed_dict=feed_dict_oracle_test)\n",
    "\n",
    "          loss_train = sess.run(loss_oracle, feed_dict=feed_dict_oracle_train)\n",
    "\n",
    "          losstrain_oracle.append(loss_train)\n",
    "\n",
    "          losstest_oracle.append(loss_test)\n",
    "\n",
    "          if step % 100==0:\n",
    "\n",
    "              summary_str = sess.run(summary_op, feed_dict=feed_dict_oracle_test)\n",
    "\n",
    "              summary_str += sess.run(summary_op, feed_dict=feed_dict_oracle_train)\n",
    "\n",
    "              summary_writer.add_summary(summary_str, step)\n",
    "\n",
    "              print(loss_train)       \n",
    "\n",
    "      print(sess.run(loss_oracle, feed_dict=feed_dict_oracle_test))"
   ]
  },
  {
   "cell_type": "markdown",
   "metadata": {},
   "source": [
    "### 描画"
   ]
  },
  {
   "cell_type": "code",
   "execution_count": 15,
   "metadata": {},
   "outputs": [
    {
     "data": {
      "image/png": "[encoded data removed]",
      "text/plain": [
       "<matplotlib.figure.Figure at 0x27535618cf8>"
      ]
     },
     "metadata": {},
     "output_type": "display_data"
    }
   ],
   "source": [
    "plt.plot(losstrain,label=\"normal_train\")\n",
    "\n",
    "plt.plot(losstest,label=\"normal_test\") \n",
    "\n",
    "plt.plot(losstrain_oracle,label=\"oracle_train\")\n",
    "\n",
    "plt.plot(losstest_oracle,label=\"oracle_test\") \n",
    "\n",
    "plt.legend()\n",
    "\n",
    "plt.title(\"loss\")\n",
    "\n",
    "plt.xlabel(\"step\")\n",
    "\n",
    "plt.ylabel(\"L^2-loss\")\n",
    "\n",
    "plt.show()"
   ]
  }
 ],
 "metadata": {
  "kernelspec": {
   "display_name": "Python 3",
   "language": "python",
   "name": "python3"
  },
  "language_info": {
   "codemirror_mode": {
    "name": "ipython",
    "version": 3
   },
   "file_extension": ".py",
   "mimetype": "text/x-python",
   "name": "python",
   "nbconvert_exporter": "python",
   "pygments_lexer": "ipython3",
   "version": "3.6.3"
  }
 },
 "nbformat": 4,
 "nbformat_minor": 2
}
